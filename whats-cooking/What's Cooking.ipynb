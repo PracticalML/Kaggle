{
 "cells": [
  {
   "cell_type": "markdown",
   "metadata": {},
   "source": [
    "For NN:\n",
    "\n",
    "GPU run mode:\n",
    "\n",
    "```\n",
    "THEANO_FLAGS=mode=FAST_RUN,device=gpu,floatX=float32 ipython notebook\n",
    "```\n",
    "\n",
    "CPU run mode:\n",
    "\n",
    "```\n",
    "THEANO_FLAGS=mode=FAST_RUN,device=cpu,floatX=float32 ipython notebook\n",
    "```\n",
    "\n",
    "To use Theano you need NVIDIA GPUs, hence won't work on some Macbook Pros."
   ]
  },
  {
   "cell_type": "code",
   "execution_count": 8,
   "metadata": {
    "collapsed": false
   },
   "outputs": [
    {
     "data": {
      "application/javascript": [
       "IPython.notebook.set_autosave_interval(10000)"
      ]
     },
     "metadata": {},
     "output_type": "display_data"
    },
    {
     "name": "stdout",
     "output_type": "stream",
     "text": [
      "Autosaving every 10 seconds\n"
     ]
    }
   ],
   "source": [
    "%autosave 10\n",
    "\n",
    "import re\n",
    "\n",
    "from sklearn.cross_validation import train_test_split, StratifiedShuffleSplit\n",
    "from sklearn.feature_extraction.text import CountVectorizer, TfidfVectorizer, HashingVectorizer\n",
    "from sklearn.grid_search import GridSearchCV\n",
    "from sklearn.linear_model import SGDClassifier\n",
    "from sklearn.metrics import accuracy_score\n",
    "from sklearn.pipeline import Pipeline\n",
    "from sklearn.preprocessing import LabelEncoder, StandardScaler\n",
    "from sklearn.decomposition import PCA\n",
    "\n",
    "import keras\n",
    "from keras.models import Sequential\n",
    "from keras.layers.core import Dense, Dropout, Activation\n",
    "from keras.optimizers import Adam, SGD\n",
    "from keras.models import model_from_json\n",
    "from keras.regularizers import l2, l1l2, activity_l1l2\n",
    "from keras.layers.advanced_activations import PReLU\n",
    "from keras.layers.normalization import BatchNormalization\n",
    "from keras.callbacks import History, EarlyStopping\n",
    "\n",
    "import numpy as np\n",
    "import pandas as pd"
   ]
  },
  {
   "cell_type": "markdown",
   "metadata": {},
   "source": [
    "## important, check\n",
    "\n",
    "you must see `Using gpu device 0: GRID K520 (CNMeM is disabled)` above, or else you're not using the GPU for NN training. the first time you run theano it may take 1-2 minutes to see this message, be patient."
   ]
  },
  {
   "cell_type": "markdown",
   "metadata": {},
   "source": [
    "Let's assume I forgot to package a certain Python module and I desperately want it without SSH'ing to the master. I can do:"
   ]
  },
  {
   "cell_type": "code",
   "execution_count": 2,
   "metadata": {
    "collapsed": false
   },
   "outputs": [
    {
     "name": "stdout",
     "output_type": "stream",
     "text": [
      "Fetching package metadata: ....\n",
      "Solving package specifications: .....................\n",
      "Package plan for installation in environment /home/ubuntu/miniconda:\n",
      "\n",
      "The following packages will be downloaded:\n",
      "\n",
      "    package                    |            build\n",
      "    ---------------------------|-----------------\n",
      "    nltk-3.1                   |           py27_0         1.7 MB\n",
      "\n",
      "The following NEW packages will be INSTALLED:\n",
      "\n",
      "    nltk: 3.1-py27_0\n",
      "\n",
      "Fetching packages ...\n",
      "nltk-3.1-py27_ 100% |################################| Time: 0:00:01   1.41 MB/s\n",
      "Extracting packages ...\n",
      "[      COMPLETE      ]|###################################################| 100%\n",
      "Linking packages ...\n",
      "[      COMPLETE      ]|###################################################| 100%\n"
     ]
    }
   ],
   "source": [
    "!/home/ubuntu/miniconda/bin/conda install -y nltk\n",
    "\n",
    "# if not found by conda, use pip\n",
    "# !/home/ubuntu/miniconda/bin/pip install my-module"
   ]
  },
  {
   "cell_type": "code",
   "execution_count": 3,
   "metadata": {
    "collapsed": true
   },
   "outputs": [],
   "source": [
    "from nltk.stem.snowball import SnowballStemmer"
   ]
  },
  {
   "cell_type": "markdown",
   "metadata": {},
   "source": [
    "## Preprocess data"
   ]
  },
  {
   "cell_type": "code",
   "execution_count": 4,
   "metadata": {
    "collapsed": false
   },
   "outputs": [],
   "source": [
    "all_train_filepath = \"/mnt/kaggle-whats-cooking/train.json\"\n",
    "all_train = pd.read_json(all_train_filepath)\n",
    "X_all_train = all_train[\"ingredients\"]\n",
    "y_all_train = all_train[\"cuisine\"]"
   ]
  },
  {
   "cell_type": "code",
   "execution_count": 5,
   "metadata": {
    "collapsed": false
   },
   "outputs": [],
   "source": [
    "cuisine_encoder = LabelEncoder()\n",
    "cuisine_encoder.fit(y_all_train)\n",
    "y_all_train_encoded = cuisine_encoder.transform(y_all_train)"
   ]
  },
  {
   "cell_type": "code",
   "execution_count": 6,
   "metadata": {
    "collapsed": false
   },
   "outputs": [],
   "source": [
    "X_train, X_test, y_train, y_test = train_test_split(\n",
    "    X_all_train, y_all_train_encoded, train_size=0.8, random_state=42,\n",
    "    stratify=y_all_train)"
   ]
  },
  {
   "cell_type": "code",
   "execution_count": 7,
   "metadata": {
    "collapsed": false
   },
   "outputs": [],
   "source": [
    "stemmer = SnowballStemmer(\"english\")\n",
    "\n",
    "def process_ingredients(x):\n",
    "    \"\"\"scikit-learn requires a list of strings as the output of the\n",
    "    tokenizer. However we already start with a list of strings\n",
    "    (normally problems start with a plain string).\"\"\"\n",
    "    all_ingredients = []\n",
    "    for i in xrange(len(x)):\n",
    "        x[i] = re.sub('\\([^)]+\\)\\s*', '', x[i]) #  remove brackets\n",
    "        x[i] = re.sub('[^\\\\%]+\\\\%\\s*', '', x[i]) #  remove percent signs\n",
    "        x[i] = x[i].strip().lower()  # lower case, trim\n",
    "        x[i] = stemmer.stem(x[i])  #  reduce ingredient to its stem, minor accuracy improvement\n",
    "        result = [x[i]] + x[i].split(' ')\n",
    "        for j in xrange(len(result)):\n",
    "            result[j] = result[j].strip().lower()\n",
    "            result[j] = re.sub('[^a-z]', ' ', result[j])\n",
    "        for ingredient in result:\n",
    "            if len(ingredient.strip()) != 0:\n",
    "                all_ingredients.append(ingredient)\n",
    "    return all_ingredients\n",
    "\n",
    "X_train_vectorizer = CountVectorizer(min_df=1, binary=True,\n",
    "                                     tokenizer=process_ingredients,\n",
    "                                     lowercase=False,\n",
    "                                     ngram_range=(1, 2),\n",
    "                                     dtype=np.uint8)\n",
    "\n",
    "# does significantly worse than just using counts\n",
    "#X_train_vectorizer = TfidfVectorizer(min_df=1, binary=True,\n",
    "#                                     tokenizer=process_ingredients,\n",
    "#                                     lowercase=False,\n",
    "#                                     ngram_range=(1, 2))\n",
    "\n",
    "# we have around 1 million features. you can use the hashing trick to\n",
    "# vectorize to a smaller number of features without losing too much\n",
    "# information. could be an interesting step to take before deep\n",
    "# neural network trainining (reduce the number of features to allow\n",
    "# larger and more complex models to fit in the GPU's memory). however\n",
    "# this is pointless for SGDClassifier (i.e. logistic regression) because\n",
    "# we can fit the counts as a sparse matrix in memory, and we don't mind\n",
    "# how long it takes to train the model.\n",
    "#X_train_vectorizer = HashingVectorizer(binary=True,\n",
    "#                                       tokenizer=process_ingredients,\n",
    "#                                       lowercase=False,\n",
    "#                                       ngram_range=(1, 2),\n",
    "#                                       n_features=500000)\n",
    "\n",
    "X_train_tf = X_train_vectorizer.fit_transform(X_train)"
   ]
  },
  {
   "cell_type": "markdown",
   "metadata": {},
   "source": [
    "## Linear classifiers"
   ]
  },
  {
   "cell_type": "code",
   "execution_count": 8,
   "metadata": {
    "collapsed": false
   },
   "outputs": [
    {
     "data": {
      "text/plain": [
       "GridSearchCV(cv=StratifiedShuffleSplit(labels=[7 9 ..., 1 7], n_iter=10, test_size=0.1, random_state=42),\n",
       "       error_score='raise',\n",
       "       estimator=SGDClassifier(alpha=0.0001, average=False, class_weight=None, epsilon=0.1,\n",
       "       eta0=0.0, fit_intercept=True, l1_ratio=0.15,\n",
       "       learning_rate='optimal', loss='hinge', n_iter=5, n_jobs=-1,\n",
       "       penalty='l2', power_t=0.5, random_state=42, shuffle=True, verbose=0,\n",
       "       warm_start=False),\n",
       "       fit_params={}, iid=True, n_jobs=1,\n",
       "       param_grid={'penalty': ['elasticnet'], 'alpha': [0.0001], 'n_iter': [5], 'loss': ['log'], 'l1_ratio': array([ 0.     ,  0.05556,  0.11111,  0.16667,  0.22222,  0.27778,\n",
       "        0.33333,  0.38889,  0.44444,  0.5    ])},\n",
       "       pre_dispatch='2*n_jobs', refit=True, scoring=None, verbose=0)"
      ]
     },
     "execution_count": 8,
     "metadata": {},
     "output_type": "execute_result"
    }
   ],
   "source": [
    "param_grid = {\n",
    "    'alpha': [0.0001],  # regularization, penalizes large coefficients\n",
    "    'l1_ratio': np.linspace(0, 0.5, num=10),  # elastic net param. 0 is L2, 1 is L1\n",
    "    'n_iter': [5],\n",
    "    'penalty': ['elasticnet'],\n",
    "    'loss': ['log'],\n",
    "}\n",
    "model = SGDClassifier(random_state=42, n_jobs=-1)\n",
    "\n",
    "cv = StratifiedShuffleSplit(y_train, n_iter=10, test_size=0.1,\n",
    "                            random_state=42)\n",
    "grid = GridSearchCV(model, param_grid=param_grid, cv=cv)\n",
    "grid.fit(X_train_tf, y_train)"
   ]
  },
  {
   "cell_type": "code",
   "execution_count": 9,
   "metadata": {
    "collapsed": false
   },
   "outputs": [
    {
     "data": {
      "text/plain": [
       "{'alpha': 0.0001,\n",
       " 'l1_ratio': 0.1111111111111111,\n",
       " 'loss': 'log',\n",
       " 'n_iter': 5,\n",
       " 'penalty': 'elasticnet'}"
      ]
     },
     "execution_count": 9,
     "metadata": {},
     "output_type": "execute_result"
    }
   ],
   "source": [
    "grid.best_params_"
   ]
  },
  {
   "cell_type": "code",
   "execution_count": 10,
   "metadata": {
    "collapsed": false
   },
   "outputs": [],
   "source": [
    "X_test_tf = X_train_vectorizer.transform(X_test)\n",
    "y_test_pred = grid.predict(X_test_tf)"
   ]
  },
  {
   "cell_type": "code",
   "execution_count": 11,
   "metadata": {
    "collapsed": false
   },
   "outputs": [
    {
     "name": "stdout",
     "output_type": "stream",
     "text": [
      "0.778280542986\n"
     ]
    }
   ],
   "source": [
    "score = accuracy_score(y_test, y_test_pred)\n",
    "print(score)"
   ]
  },
  {
   "cell_type": "markdown",
   "metadata": {},
   "source": [
    "## Submit linear classifier"
   ]
  },
  {
   "cell_type": "code",
   "execution_count": 12,
   "metadata": {
    "collapsed": false
   },
   "outputs": [],
   "source": [
    "submission_filepath = \"/mnt/kaggle-whats-cooking/test.json\"\n",
    "submission = pd.read_json(submission_filepath)\n",
    "X_submission = submission[\"ingredients\"]\n",
    "X_submission_df = X_train_vectorizer.transform(X_submission)\n",
    "y_submission = grid.predict(X_submission_df)\n",
    "y_cuisine = cuisine_encoder.inverse_transform(y_submission)\n",
    "df = pd.DataFrame({\"cuisine\": y_cuisine}, index=submission[\"id\"])"
   ]
  },
  {
   "cell_type": "code",
   "execution_count": 13,
   "metadata": {
    "collapsed": false
   },
   "outputs": [],
   "source": [
    "df.to_csv(\"submission.csv\")"
   ]
  },
  {
   "cell_type": "markdown",
   "metadata": {},
   "source": [
    "## Neural networks"
   ]
  },
  {
   "cell_type": "markdown",
   "metadata": {},
   "source": [
    "See:\n",
    "\n",
    "- http://nbviewer.ipython.org/github/Egor-Krivov/cooking/blob/master/kaggle.ipynb\n",
    "- https://github.com/Egor-Krivov/cooking/blob/master/utils.py\n",
    "- https://github.com/fchollet/keras/blob/master/examples/kaggle_otto_nn.py\n",
    "- http://cs231n.github.io/\n",
    "\n",
    "Papers:\n",
    "\n",
    "- http://www.cs.toronto.edu/~rsalakhu/papers/srivastava14a.pdf"
   ]
  },
  {
   "cell_type": "markdown",
   "metadata": {},
   "source": [
    "Here's a way to check if you're successfully using the GPU, or falling back to the CPU"
   ]
  },
  {
   "cell_type": "code",
   "execution_count": 9,
   "metadata": {
    "collapsed": false
   },
   "outputs": [
    {
     "name": "stdout",
     "output_type": "stream",
     "text": [
      "[GpuElemwise{exp,no_inplace}(<CudaNdarrayType(float32, vector)>), HostFromGpu(GpuElemwise{exp,no_inplace}.0)]\n",
      "Looping 1000 times took 0.663414 seconds\n",
      "Result is [ 1.23178029  1.61879349  1.52278066 ...,  2.20771813  2.29967761\n",
      "  1.62323296]\n",
      "Used the gpu\n"
     ]
    }
   ],
   "source": [
    "from theano import function, config, shared, sandbox\n",
    "import theano.tensor as T\n",
    "import numpy\n",
    "import time\n",
    "\n",
    "vlen = 10 * 30 * 768  # 10 x #cores x # threads per core\n",
    "iters = 1000\n",
    "\n",
    "rng = numpy.random.RandomState(22)\n",
    "x = shared(numpy.asarray(rng.rand(vlen), config.floatX))\n",
    "f = function([], T.exp(x))\n",
    "print(f.maker.fgraph.toposort())\n",
    "t0 = time.time()\n",
    "for i in xrange(iters):\n",
    "    r = f()\n",
    "t1 = time.time()\n",
    "print(\"Looping %d times took %f seconds\" % (iters, t1 - t0))\n",
    "print(\"Result is %s\" % (r,))\n",
    "if numpy.any([isinstance(x.op, T.Elemwise) for x in f.maker.fgraph.toposort()]):\n",
    "    print('Used the cpu')\n",
    "else:\n",
    "    print('Used the gpu')"
   ]
  },
  {
   "cell_type": "code",
   "execution_count": 10,
   "metadata": {
    "collapsed": true
   },
   "outputs": [],
   "source": [
    "np.random.seed(42)"
   ]
  },
  {
   "cell_type": "code",
   "execution_count": 11,
   "metadata": {
    "collapsed": false
   },
   "outputs": [],
   "source": [
    "y_train_hot_encoded = np.array(\n",
    "    np.zeros((y_train.shape[0], len(cuisine_encoder.classes_))),\n",
    "    dtype=np.int8)\n",
    "for i, value in enumerate(y_train):\n",
    "    y_train_hot_encoded[i, value] = 1"
   ]
  },
  {
   "cell_type": "markdown",
   "metadata": {},
   "source": [
    "First we compile the model and load it onto the GPU. This takes a few minutes. If you get a memory error restart the kernel and try again."
   ]
  },
  {
   "cell_type": "code",
   "execution_count": 16,
   "metadata": {
    "collapsed": false
   },
   "outputs": [],
   "source": [
    "input_dropout = 0.75\n",
    "dropout = 0.75\n",
    "l1 = 0\n",
    "l2 = 0\n",
    "layers = [1024, 1024]\n",
    "\n",
    "model = Sequential()\n",
    "model.add(Dropout(input_dropout, input_shape=(X_train_tf.shape[1], )))  # regularize inputs\n",
    "for layer in layers:\n",
    "    model.add(Dense(layer, W_regularizer=l1l2(l1, l2)))\n",
    "\n",
    "    # choose an activation\n",
    "    model.add(Activation('relu'))  # the default activation to try first\n",
    "    #model.add(PReLU())\n",
    "\n",
    "    #model.add(BatchNormalization())  # makes it worse\n",
    "    model.add(Dropout(dropout))  # regularization, 0.5 is a good default dropout rate\n",
    "model.add(Dense(y_train_hot_encoded.shape[1], W_regularizer=l1l2(l1, l2)))\n",
    "model.add(Activation('softmax'))\n",
    "\n",
    "# optimizers.\n",
    "# adam is much faster. i think too fast, need to slow down learning rate from default.\n",
    "# sgd is more optimal (i think). lr 0.1 seems a bit slow, but the default is 0.01!\n",
    "sgd = SGD(lr=0.2, decay=1e-6, momentum=0.9, nesterov=True)\n",
    "adam = Adam()\n",
    "\n",
    "model.compile(loss='categorical_crossentropy', optimizer=sgd)\n",
    "model_description = model.to_json()"
   ]
  },
  {
   "cell_type": "markdown",
   "metadata": {},
   "source": [
    "Here is where we train. You can still abort the notebook here, but you'll probably have to restart the kernel and reload the data. Note that when you want to re-run this if you get memory errors you need to restart the kernel and reload the data.\n",
    "\n",
    "Also note that if you interrupt the kernel and restart training it doesn't start from scratch. Restarting the kernel will of course start everything from scratch."
   ]
  },
  {
   "cell_type": "code",
   "execution_count": 17,
   "metadata": {
    "collapsed": false
   },
   "outputs": [
    {
     "name": "stdout",
     "output_type": "stream",
     "text": [
      "Train on 28636 samples, validate on 3182 samples\n",
      "Epoch 1/100\n",
      "28636/28636 [==============================] - 26s - loss: 2.5530 - acc: 0.2628 - val_loss: 2.0230 - val_acc: 0.4730\n",
      "Epoch 2/100\n",
      "28636/28636 [==============================] - 27s - loss: 1.9741 - acc: 0.4494 - val_loss: 1.5302 - val_acc: 0.5569\n",
      "Epoch 3/100\n",
      "28636/28636 [==============================] - 27s - loss: 1.7101 - acc: 0.5069 - val_loss: 1.3413 - val_acc: 0.6072\n",
      "Epoch 4/100\n",
      "28636/28636 [==============================] - 27s - loss: 1.5840 - acc: 0.5364 - val_loss: 1.2602 - val_acc: 0.6464\n",
      "Epoch 5/100\n",
      "28636/28636 [==============================] - 27s - loss: 1.5131 - acc: 0.5539 - val_loss: 1.1952 - val_acc: 0.6615\n",
      "Epoch 6/100\n",
      "28636/28636 [==============================] - 27s - loss: 1.4627 - acc: 0.5651 - val_loss: 1.1669 - val_acc: 0.6725\n",
      "Epoch 7/100\n",
      "28636/28636 [==============================] - 26s - loss: 1.4224 - acc: 0.5793 - val_loss: 1.1328 - val_acc: 0.6807\n",
      "Epoch 8/100\n",
      "28636/28636 [==============================] - 26s - loss: 1.3912 - acc: 0.5849 - val_loss: 1.1022 - val_acc: 0.6898\n",
      "Epoch 9/100\n",
      "28636/28636 [==============================] - 26s - loss: 1.3683 - acc: 0.5945 - val_loss: 1.0878 - val_acc: 0.7002\n",
      "Epoch 10/100\n",
      "28636/28636 [==============================] - 27s - loss: 1.3339 - acc: 0.6023 - val_loss: 1.0662 - val_acc: 0.7071\n",
      "Epoch 11/100\n",
      "28636/28636 [==============================] - 27s - loss: 1.3075 - acc: 0.6105 - val_loss: 1.0490 - val_acc: 0.7143\n",
      "Epoch 12/100\n",
      "28636/28636 [==============================] - 27s - loss: 1.3023 - acc: 0.6133 - val_loss: 1.0399 - val_acc: 0.7187\n",
      "Epoch 13/100\n",
      "28636/28636 [==============================] - 27s - loss: 1.2938 - acc: 0.6156 - val_loss: 1.0382 - val_acc: 0.7209\n",
      "Epoch 14/100\n",
      "28636/28636 [==============================] - 27s - loss: 1.2642 - acc: 0.6193 - val_loss: 1.0235 - val_acc: 0.7244\n",
      "Epoch 15/100\n",
      "28636/28636 [==============================] - 27s - loss: 1.2586 - acc: 0.6238 - val_loss: 1.0074 - val_acc: 0.7266\n",
      "Epoch 16/100\n",
      "28636/28636 [==============================] - 27s - loss: 1.2349 - acc: 0.6315 - val_loss: 1.0001 - val_acc: 0.7275\n",
      "Epoch 17/100\n",
      "28636/28636 [==============================] - 26s - loss: 1.2208 - acc: 0.6340 - val_loss: 0.9940 - val_acc: 0.7300\n",
      "Epoch 18/100\n",
      "28636/28636 [==============================] - 25s - loss: 1.2170 - acc: 0.6367 - val_loss: 0.9849 - val_acc: 0.7363\n",
      "Epoch 19/100\n",
      "28636/28636 [==============================] - 25s - loss: 1.2151 - acc: 0.6357 - val_loss: 0.9822 - val_acc: 0.7370\n",
      "Epoch 20/100\n",
      "28636/28636 [==============================] - 26s - loss: 1.2018 - acc: 0.6385 - val_loss: 0.9698 - val_acc: 0.7392\n",
      "Epoch 21/100\n",
      "28636/28636 [==============================] - 27s - loss: 1.1884 - acc: 0.6429 - val_loss: 0.9643 - val_acc: 0.7404\n",
      "Epoch 22/100\n",
      "28636/28636 [==============================] - 26s - loss: 1.1822 - acc: 0.6453 - val_loss: 0.9524 - val_acc: 0.7404\n",
      "Epoch 23/100\n",
      "28636/28636 [==============================] - 26s - loss: 1.1682 - acc: 0.6477 - val_loss: 0.9509 - val_acc: 0.7445\n",
      "Epoch 24/100\n",
      "28636/28636 [==============================] - 26s - loss: 1.1638 - acc: 0.6494 - val_loss: 0.9521 - val_acc: 0.7473\n",
      "Epoch 25/100\n",
      "28636/28636 [==============================] - 27s - loss: 1.1559 - acc: 0.6521 - val_loss: 0.9389 - val_acc: 0.7483\n",
      "Epoch 26/100\n",
      "28636/28636 [==============================] - 27s - loss: 1.1479 - acc: 0.6555 - val_loss: 0.9357 - val_acc: 0.7502\n",
      "Epoch 27/100\n",
      "28636/28636 [==============================] - 27s - loss: 1.1329 - acc: 0.6572 - val_loss: 0.9263 - val_acc: 0.7511\n",
      "Epoch 28/100\n",
      "28636/28636 [==============================] - 27s - loss: 1.1332 - acc: 0.6582 - val_loss: 0.9247 - val_acc: 0.7502\n",
      "Epoch 29/100\n",
      "28636/28636 [==============================] - 25s - loss: 1.1217 - acc: 0.6633 - val_loss: 0.9257 - val_acc: 0.7489\n",
      "Epoch 30/100\n",
      "28636/28636 [==============================] - 25s - loss: 1.1220 - acc: 0.6627 - val_loss: 0.9219 - val_acc: 0.7505\n",
      "Epoch 31/100\n",
      "28636/28636 [==============================] - 25s - loss: 1.1135 - acc: 0.6641 - val_loss: 0.9134 - val_acc: 0.7536\n",
      "Epoch 32/100\n",
      "28636/28636 [==============================] - 25s - loss: 1.1018 - acc: 0.6680 - val_loss: 0.9050 - val_acc: 0.7517\n",
      "Epoch 33/100\n",
      "28636/28636 [==============================] - 25s - loss: 1.0897 - acc: 0.6711 - val_loss: 0.8918 - val_acc: 0.7530\n",
      "Epoch 34/100\n",
      "28636/28636 [==============================] - 26s - loss: 1.0910 - acc: 0.6711 - val_loss: 0.8941 - val_acc: 0.7599\n",
      "Epoch 35/100\n",
      "28636/28636 [==============================] - 27s - loss: 1.0904 - acc: 0.6692 - val_loss: 0.8923 - val_acc: 0.7599\n",
      "Epoch 36/100\n",
      "28636/28636 [==============================] - 27s - loss: 1.0779 - acc: 0.6733 - val_loss: 0.8918 - val_acc: 0.7596\n",
      "Epoch 37/100\n",
      "28636/28636 [==============================] - 26s - loss: 1.0773 - acc: 0.6734 - val_loss: 0.8874 - val_acc: 0.7583\n",
      "Epoch 38/100\n",
      "28636/28636 [==============================] - 26s - loss: 1.0701 - acc: 0.6781 - val_loss: 0.8857 - val_acc: 0.7568\n",
      "Epoch 39/100\n",
      "28636/28636 [==============================] - 27s - loss: 1.0665 - acc: 0.6793 - val_loss: 0.8737 - val_acc: 0.7608\n",
      "Epoch 40/100\n",
      "28636/28636 [==============================] - 27s - loss: 1.0633 - acc: 0.6767 - val_loss: 0.8721 - val_acc: 0.7577\n",
      "Epoch 41/100\n",
      "28636/28636 [==============================] - 26s - loss: 1.0568 - acc: 0.6785 - val_loss: 0.8732 - val_acc: 0.7624\n",
      "Epoch 42/100\n",
      "28636/28636 [==============================] - 25s - loss: 1.0460 - acc: 0.6846 - val_loss: 0.8679 - val_acc: 0.7646\n",
      "Epoch 43/100\n",
      "28636/28636 [==============================] - 25s - loss: 1.0350 - acc: 0.6853 - val_loss: 0.8542 - val_acc: 0.7630\n",
      "Epoch 44/100\n",
      "28636/28636 [==============================] - 27s - loss: 1.0297 - acc: 0.6877 - val_loss: 0.8517 - val_acc: 0.7659\n",
      "Epoch 45/100\n",
      "28636/28636 [==============================] - 27s - loss: 1.0285 - acc: 0.6892 - val_loss: 0.8484 - val_acc: 0.7671\n",
      "Epoch 46/100\n",
      "28636/28636 [==============================] - 27s - loss: 1.0439 - acc: 0.6853 - val_loss: 0.8492 - val_acc: 0.7656\n",
      "Epoch 47/100\n",
      "28636/28636 [==============================] - 26s - loss: 1.0164 - acc: 0.6871 - val_loss: 0.8446 - val_acc: 0.7665\n",
      "Epoch 48/100\n",
      "28636/28636 [==============================] - 27s - loss: 1.0180 - acc: 0.6915 - val_loss: 0.8425 - val_acc: 0.7656\n",
      "Epoch 49/100\n",
      "28636/28636 [==============================] - 27s - loss: 1.0095 - acc: 0.6939 - val_loss: 0.8363 - val_acc: 0.7703\n",
      "Epoch 50/100\n",
      "28636/28636 [==============================] - 27s - loss: 1.0129 - acc: 0.6955 - val_loss: 0.8402 - val_acc: 0.7712\n",
      "Epoch 51/100\n",
      "28636/28636 [==============================] - 27s - loss: 1.0054 - acc: 0.6947 - val_loss: 0.8314 - val_acc: 0.7690\n",
      "Epoch 52/100\n",
      "28636/28636 [==============================] - 27s - loss: 1.0040 - acc: 0.6943 - val_loss: 0.8264 - val_acc: 0.7687\n",
      "Epoch 53/100\n",
      "28636/28636 [==============================] - 27s - loss: 0.9953 - acc: 0.6979 - val_loss: 0.8286 - val_acc: 0.7715\n",
      "Epoch 54/100\n",
      "28636/28636 [==============================] - 27s - loss: 0.9887 - acc: 0.6994 - val_loss: 0.8242 - val_acc: 0.7715\n",
      "Epoch 55/100\n",
      "28636/28636 [==============================] - 26s - loss: 0.9855 - acc: 0.6991 - val_loss: 0.8201 - val_acc: 0.7725\n",
      "Epoch 56/100\n",
      "28636/28636 [==============================] - 27s - loss: 0.9684 - acc: 0.7087 - val_loss: 0.8115 - val_acc: 0.7753\n",
      "Epoch 57/100\n",
      "28636/28636 [==============================] - 27s - loss: 0.9704 - acc: 0.7070 - val_loss: 0.8147 - val_acc: 0.7766\n",
      "Epoch 58/100\n",
      "28636/28636 [==============================] - 27s - loss: 0.9723 - acc: 0.7032 - val_loss: 0.8135 - val_acc: 0.7734\n",
      "Epoch 59/100\n",
      "28636/28636 [==============================] - 27s - loss: 0.9705 - acc: 0.6999 - val_loss: 0.8080 - val_acc: 0.7709\n",
      "Epoch 60/100\n",
      "28636/28636 [==============================] - 27s - loss: 0.9644 - acc: 0.7069 - val_loss: 0.8062 - val_acc: 0.7762\n",
      "Epoch 61/100\n",
      "28636/28636 [==============================] - 27s - loss: 0.9818 - acc: 0.7001 - val_loss: 0.8149 - val_acc: 0.7715\n",
      "Epoch 62/100\n",
      "28636/28636 [==============================] - 27s - loss: 0.9666 - acc: 0.7052 - val_loss: 0.8086 - val_acc: 0.7750\n",
      "Epoch 63/100\n",
      "28636/28636 [==============================] - 27s - loss: 0.9637 - acc: 0.7070 - val_loss: 0.8030 - val_acc: 0.7753\n",
      "Epoch 64/100\n",
      "28636/28636 [==============================] - 27s - loss: 0.9523 - acc: 0.7094 - val_loss: 0.7982 - val_acc: 0.7769\n",
      "Epoch 65/100\n",
      "28636/28636 [==============================] - 27s - loss: 0.9469 - acc: 0.7106 - val_loss: 0.7913 - val_acc: 0.7747\n",
      "Epoch 66/100\n",
      "28636/28636 [==============================] - 27s - loss: 0.9470 - acc: 0.7079 - val_loss: 0.7938 - val_acc: 0.7744\n",
      "Epoch 67/100\n",
      "28636/28636 [==============================] - 27s - loss: 0.9381 - acc: 0.7142 - val_loss: 0.7882 - val_acc: 0.7734\n",
      "Epoch 68/100\n",
      "28636/28636 [==============================] - 27s - loss: 0.9334 - acc: 0.7143 - val_loss: 0.7895 - val_acc: 0.7753\n",
      "Epoch 69/100\n",
      "28636/28636 [==============================] - 27s - loss: 0.9339 - acc: 0.7140 - val_loss: 0.7891 - val_acc: 0.7731\n",
      "Epoch 70/100\n",
      "28636/28636 [==============================] - 27s - loss: 0.9358 - acc: 0.7132 - val_loss: 0.7906 - val_acc: 0.7737\n",
      "Epoch 71/100\n",
      "28636/28636 [==============================] - 26s - loss: 0.9370 - acc: 0.7135 - val_loss: 0.7903 - val_acc: 0.7750\n"
     ]
    }
   ],
   "source": [
    "nb_epoch = 100\n",
    "\n",
    "# make this as large as possible without running out of memory\n",
    "# (i think! you should play around with this and see what your results are)\n",
    "# on kaggle people seem to use 16-128, but to get fast results use 1024+. 4096 runs out of memory.\n",
    "batch_size = 2048\n",
    "\n",
    "early_stopping = EarlyStopping(monitor='val_loss', patience=3, mode='min')\n",
    "\n",
    "history = model.fit(\n",
    "    X_train_tf.todense(),\n",
    "    y_train_hot_encoded,\n",
    "    nb_epoch=nb_epoch,\n",
    "    batch_size=batch_size,\n",
    "    show_accuracy=True,\n",
    "    validation_split=0.1,\n",
    "    callbacks=[early_stopping]\n",
    ")"
   ]
  },
  {
   "cell_type": "markdown",
   "metadata": {},
   "source": [
    "Draw history of accuracies during training to see if we're overfitting or underfitting. In keras plotting loss is very misleading because we train on the regularized model using dropout, but we test without dropout. Hence validation loss is always smaller than training loss, and hard to interpret.\n",
    "\n",
    "Then again I've noticed that validation accuracy is usually higher than train accuracy, which doesn't make sense..."
   ]
  },
  {
   "cell_type": "code",
   "execution_count": 24,
   "metadata": {
    "collapsed": false
   },
   "outputs": [],
   "source": [
    "%matplotlib inline\n",
    "\n",
    "import matplotlib\n",
    "import matplotlib.pyplot as plt\n",
    "\n",
    "class EpochDrawer(object):\n",
    "    '''\n",
    "    takes the history of keras.models.Sequential().fit() and\n",
    "    plots training and validation accuracy over the epochs\n",
    "    '''\n",
    "    def __init__(self, history, key='acc', save_filename = None):\n",
    "\n",
    "        self.x = history.epoch\n",
    "        self.legend = [key]\n",
    "\n",
    "        plt.plot(self.x, history.history[key], marker='.')\n",
    "\n",
    "        if 'val_%s' % key in history.history:\n",
    "            self.legend.append('val %s' % key)\n",
    "            plt.plot(self.x, history.history['val_%s' % key], marker='.')\n",
    "\n",
    "        plt.title('%s over epochs' % key)\n",
    "        plt.xlabel('Epochs')\n",
    "        plt.xticks(history.epoch, history.epoch)\n",
    "        plt.legend(self.legend, loc = 'lower right')\n",
    "\n",
    "        if save_filename is not None:\n",
    "            plt.savefig(save_filename)\n",
    "\n",
    "        plt.show()"
   ]
  },
  {
   "cell_type": "code",
   "execution_count": 25,
   "metadata": {
    "collapsed": false
   },
   "outputs": [
    {
     "data": {
      "image/png": "[encoded data removed]",
      "text/plain": [
       "<matplotlib.figure.Figure at 0x7fb1b4a87f10>"
      ]
     },
     "metadata": {},
     "output_type": "display_data"
    }
   ],
   "source": [
    "EpochDrawer(history)\n",
    "pass"
   ]
  },
  {
   "cell_type": "markdown",
   "metadata": {},
   "source": [
    "Remember - the smaller the gap between the curves the higher the bias. Small gap => try more complex, big gap => you need to regularize more.\n",
    "\n",
    "In this case I don't really know if we're high bias or high variance. Needs more experimentation!"
   ]
  },
  {
   "cell_type": "code",
   "execution_count": 20,
   "metadata": {
    "collapsed": false
   },
   "outputs": [
    {
     "name": "stdout",
     "output_type": "stream",
     "text": [
      "7956/7956 [==============================] - 5s     \n"
     ]
    }
   ],
   "source": [
    "X_test_tf = X_train_vectorizer.transform(X_test)\n",
    "y_test_pred = model.predict_classes(X_test_tf.todense(), batch_size=batch_size)"
   ]
  },
  {
   "cell_type": "code",
   "execution_count": 21,
   "metadata": {
    "collapsed": false
   },
   "outputs": [
    {
     "name": "stdout",
     "output_type": "stream",
     "text": [
      "0.79009552539\n"
     ]
    }
   ],
   "source": [
    "score = accuracy_score(y_test, y_test_pred)\n",
    "print(score)"
   ]
  },
  {
   "cell_type": "markdown",
   "metadata": {},
   "source": [
    "## Submit NN"
   ]
  },
  {
   "cell_type": "code",
   "execution_count": 22,
   "metadata": {
    "collapsed": false
   },
   "outputs": [
    {
     "name": "stdout",
     "output_type": "stream",
     "text": [
      "9944/9944 [==============================] - 6s     \n"
     ]
    }
   ],
   "source": [
    "submission_filepath = \"/mnt/kaggle-whats-cooking/test.json\"\n",
    "submission = pd.read_json(submission_filepath)\n",
    "X_submission = submission[\"ingredients\"]\n",
    "X_submission_df = X_train_vectorizer.transform(X_submission)\n",
    "y_submission = model.predict_classes(X_submission_df.todense(), batch_size=batch_size)\n",
    "y_cuisine = cuisine_encoder.inverse_transform(y_submission)\n",
    "df = pd.DataFrame({\"cuisine\": y_cuisine}, index=submission[\"id\"])"
   ]
  },
  {
   "cell_type": "code",
   "execution_count": 23,
   "metadata": {
    "collapsed": true
   },
   "outputs": [],
   "source": [
    "df.to_csv(\"submission_nn.csv\")"
   ]
  },
  {
   "cell_type": "markdown",
   "metadata": {},
   "source": [
    "## TODO - ensemble NN and logistic regression?"
   ]
  }
 ],
 "metadata": {
  "kernelspec": {
   "display_name": "Python 2",
   "language": "python",
   "name": "python2"
  },
  "language_info": {
   "codemirror_mode": {
    "name": "ipython",
    "version": 2
   },
   "file_extension": ".py",
   "mimetype": "text/x-python",
   "name": "python",
   "nbconvert_exporter": "python",
   "pygments_lexer": "ipython2",
   "version": "2.7.11"
  }
 },
 "nbformat": 4,
 "nbformat_minor": 0
}
